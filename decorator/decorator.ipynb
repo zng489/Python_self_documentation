{
 "cells": [
  {
   "cell_type": "code",
   "execution_count": 2,
   "metadata": {},
   "outputs": [],
   "source": [
    "def my_decorator(func):\n",
    "\n",
    "    def wrapper():\n",
    "        print('Decorator_#1')\n",
    "\n",
    "        func()\n",
    "        print('Decorator_#2')\n",
    "    return wrapper"
   ]
  },
  {
   "cell_type": "code",
   "execution_count": 3,
   "metadata": {},
   "outputs": [],
   "source": [
    "@my_decorator\n",
    "def say_whee():\n",
    "    print(\"WHEE!!!\")"
   ]
  },
  {
   "cell_type": "code",
   "execution_count": 4,
   "metadata": {},
   "outputs": [
    {
     "name": "stdout",
     "output_type": "stream",
     "text": [
      "Decorator_#1\n",
      "WHEE!!!\n",
      "Decorator_#2\n"
     ]
    }
   ],
   "source": [
    "say_whee()"
   ]
  },
  {
   "cell_type": "code",
   "execution_count": null,
   "metadata": {},
   "outputs": [],
   "source": []
  },
  {
   "cell_type": "code",
   "execution_count": 9,
   "metadata": {},
   "outputs": [],
   "source": [
    "def do_twice(func):\n",
    "    def wrapper_do_twice():\n",
    "        func()  \n",
    "        func()\n",
    "\n",
    "    return wrapper_do_twice"
   ]
  },
  {
   "cell_type": "code",
   "execution_count": 10,
   "metadata": {},
   "outputs": [],
   "source": [
    "@do_twice\n",
    "\n",
    "def say_whee():\n",
    "    print(\"whee\")"
   ]
  },
  {
   "cell_type": "code",
   "execution_count": 11,
   "metadata": {},
   "outputs": [
    {
     "name": "stdout",
     "output_type": "stream",
     "text": [
      "whee\n",
      "whee\n"
     ]
    }
   ],
   "source": [
    "say_whee()"
   ]
  },
  {
   "cell_type": "code",
   "execution_count": null,
   "metadata": {},
   "outputs": [],
   "source": []
  },
  {
   "cell_type": "code",
   "execution_count": 17,
   "metadata": {},
   "outputs": [],
   "source": [
    "def trace(func):\n",
    "\n",
    "    def print_in(*args, **kwargs):\n",
    "        print('Executing function', func.__name__)\n",
    "        return func(*args, **kwargs)\n",
    "\n",
    "    return print_in"
   ]
  },
  {
   "cell_type": "code",
   "execution_count": 18,
   "metadata": {},
   "outputs": [
    {
     "name": "stdout",
     "output_type": "stream",
     "text": [
      "Executing function calc\n",
      "a+b is 3, a-b is -1.\n"
     ]
    }
   ],
   "source": [
    "  \n",
    "@trace\n",
    "def calc(a,b):\n",
    "    print(f'a+b is {a+b}, a-b is {a-b}.')  \n",
    "\n",
    "calc(1,2)\n",
    "# Executing function calc\n",
    "# a+b is 3, a-b is -1.\n",
    "\n",
    "@trace\n",
    "def add_all(*args):\n",
    "    print(reduce(lambda a,b:a+b, args))\n",
    "\n",
    "a = add_all(1,2,3,4,5)\n",
    "# Executing function add_all\n"
   ]
  },
  {
   "cell_type": "code",
   "execution_count": null,
   "metadata": {},
   "outputs": [],
   "source": []
  },
  {
   "cell_type": "code",
   "execution_count": 1,
   "metadata": {},
   "outputs": [
    {
     "name": "stdout",
     "output_type": "stream",
     "text": [
      "Something is happening before the function is called.\n",
      "Whee!\n",
      "Something is happening after the function is called.\n"
     ]
    }
   ],
   "source": [
    "def my_decorator(func):\n",
    "    def wrapper():\n",
    "        print(\"Something is happening before the function is called.\")\n",
    "        func()\n",
    "        print(\"Something is happening after the function is called.\")\n",
    "    return wrapper\n",
    "\n",
    "@my_decorator\n",
    "# @my_decorator saying that ==> say_whee = my_decorator(say_whee)\n",
    "def say_whee():\n",
    "    print(\"Whee!\")\n",
    "\n",
    "\n",
    "if __name__==\"__main__\":\n",
    "    say_whee()"
   ]
  },
  {
   "cell_type": "code",
   "execution_count": null,
   "metadata": {},
   "outputs": [],
   "source": [
    "# https://python101.pythonlibrary.org/chapter25_decorators.html\n",
    "# Chapter 25 - Decorators — Python 101 1.0 documentation"
   ]
  },
  {
   "cell_type": "code",
   "execution_count": null,
   "metadata": {},
   "outputs": [],
   "source": []
  },
  {
   "cell_type": "markdown",
   "metadata": {},
   "source": [
    "<h4> The method '__call__' is work tranforming/ turning out Python Class as functions, for instance: Classes behave like functions </h4>\n",
    "\n",
    "<h4>Python has a set of built-in methods and __call__ is one of them. The __call__ method enables Python programmers to write classes where the instances behave like functions and can be called like a function. When the instance is called as a function; if this method is defined, x(arg1, arg2, ...) is a shorthand for x.__call__(arg1, arg2, ...). object() is shorthand for object.__call__()</h4>"
   ]
  },
  {
   "cell_type": "code",
   "execution_count": 20,
   "metadata": {},
   "outputs": [
    {
     "name": "stdout",
     "output_type": "stream",
     "text": [
      "Framework_Flask\n"
     ]
    }
   ],
   "source": [
    "class MyDemoDecorator:\n",
    "    def __init__(self, Flask):\n",
    "        self.func = Flask\n",
    "\n",
    "    def __call__(self):\n",
    "        print(self.func)\n",
    "\n",
    "    def dec(self):\n",
    "        print(\"Dota\" + self.func)\n",
    "\n",
    "Decorator = MyDemoDecorator('Framework_Flask')\n",
    "Decorator()\n"
   ]
  },
  {
   "cell_type": "code",
   "execution_count": 25,
   "metadata": {},
   "outputs": [
    {
     "name": "stdout",
     "output_type": "stream",
     "text": [
      "Framework_Flask Teste\n"
     ]
    }
   ],
   "source": [
    "class MyDemoDecorator(object):\n",
    "    def __init__(self, Flask):\n",
    "        self.func = Flask\n",
    "\n",
    "    def __call__(self, b):\n",
    "        self.func_1 = b\n",
    "        print(self.func + self.func_1)\n",
    "\n",
    "    def dec(self):\n",
    "        print(\"Dota\" + self.func + self.func_1)\n",
    "\n",
    "Decorator = MyDemoDecorator('Framework_Flask')\n",
    "Decorator(' Teste')\n"
   ]
  },
  {
   "cell_type": "code",
   "execution_count": null,
   "metadata": {},
   "outputs": [],
   "source": []
  },
  {
   "cell_type": "code",
   "execution_count": null,
   "metadata": {},
   "outputs": [],
   "source": [
    "class MyDemoDecorator:\n",
    "    def __init__(self, Flask):\n",
    "        self.func = Flask\n",
    "    def __str__(self, b):\n",
    "        self.func_1 = b\n",
    "        #Code before the function call\n",
    "        print(self.func + self.func_1)\n",
    "        \n",
    "\n",
    "Decorator = MyDemoDecorator('Framework_Flask')\n",
    "Decorator('Teste')\n",
    "\n",
    "---------------------------------------------------------------------------\n",
    "TypeError                                 Traceback (most recent call last)\n",
    "~\\AppData\\Local\\Temp/ipykernel_9384/4113306780.py in <module>\n",
    "      9 \n",
    "     10 Decorator = MyDemoDecorator('Framework_Flask')\n",
    "---> 11 Decorator('Teste')\n",
    "\n",
    "TypeError: 'MyDemoDecorator' object is not callable"
   ]
  },
  {
   "cell_type": "code",
   "execution_count": null,
   "metadata": {},
   "outputs": [],
   "source": []
  },
  {
   "cell_type": "code",
   "execution_count": 23,
   "metadata": {},
   "outputs": [
    {
     "ename": "AttributeError",
     "evalue": "type object 'MyDemoDecorator' has no attribute 'name'",
     "output_type": "error",
     "traceback": [
      "\u001b[1;31m---------------------------------------------------------------------------\u001b[0m",
      "\u001b[1;31mAttributeError\u001b[0m                            Traceback (most recent call last)",
      "\u001b[1;32m~\\AppData\\Local\\Temp/ipykernel_9384/2764057995.py\u001b[0m in \u001b[0;36m<module>\u001b[1;34m\u001b[0m\n\u001b[0;32m     17\u001b[0m \u001b[1;33m\u001b[0m\u001b[0m\n\u001b[0;32m     18\u001b[0m \u001b[1;31m# adding the decorator as class\u001b[0m\u001b[1;33m\u001b[0m\u001b[1;33m\u001b[0m\u001b[1;33m\u001b[0m\u001b[0m\n\u001b[1;32m---> 19\u001b[1;33m \u001b[1;33m@\u001b[0m\u001b[0mMyDemoDecorator\u001b[0m\u001b[1;33m.\u001b[0m\u001b[0mname\u001b[0m\u001b[1;33m(\u001b[0m\u001b[1;33m)\u001b[0m\u001b[1;33m\u001b[0m\u001b[1;33m\u001b[0m\u001b[0m\n\u001b[0m\u001b[0;32m     20\u001b[0m \u001b[1;32mdef\u001b[0m \u001b[0mfunc\u001b[0m\u001b[1;33m(\u001b[0m\u001b[1;33m)\u001b[0m\u001b[1;33m:\u001b[0m\u001b[1;33m\u001b[0m\u001b[1;33m\u001b[0m\u001b[0m\n\u001b[0;32m     21\u001b[0m     \u001b[0mprint\u001b[0m\u001b[1;33m(\u001b[0m\u001b[1;34m\"Learning!\"\u001b[0m\u001b[1;33m)\u001b[0m\u001b[1;33m\u001b[0m\u001b[1;33m\u001b[0m\u001b[0m\n",
      "\u001b[1;31mAttributeError\u001b[0m: type object 'MyDemoDecorator' has no attribute 'name'"
     ]
    }
   ],
   "source": [
    "\n",
    "##### Class Decorator #####\n",
    "\n",
    "#Use of the __call__ method in Python\n",
    "class MyDemoDecorator:\n",
    "    def __init__(self, func):\n",
    "        self.func = func\n",
    "    def __call__(self):\n",
    "        #Code before the function call\n",
    "        print('Teste#1')\n",
    "        func()\n",
    "        #return self.func()\n",
    "        print('Teste#2')\n",
    "        #Code after the function call\n",
    "\n",
    "    #def name():\n",
    "    #    print('namemmm')   \n",
    "        \n",
    "# adding the decorator as class\n",
    "@MyDemoDecorator.name()\n",
    "def func():\n",
    "    print(\"Learning!\")\n",
    "    \n",
    "func()"
   ]
  },
  {
   "cell_type": "code",
   "execution_count": null,
   "metadata": {},
   "outputs": [],
   "source": []
  },
  {
   "cell_type": "code",
   "execution_count": 24,
   "metadata": {},
   "outputs": [
    {
     "name": "stdout",
     "output_type": "stream",
     "text": [
      "<__main__.Power object at 0x000002B0AA0FFFA0>\n",
      "16\n"
     ]
    }
   ],
   "source": [
    "\n",
    "class Power(object):\n",
    "\tdef __init__(self, arg):\n",
    "\t\tself._arg = arg\n",
    "\n",
    "\tdef __call__(self, a, b):\n",
    "\t\tretval = self._arg(a, b)\n",
    "\t\treturn retval ** 2\n",
    "\n",
    "\n",
    "@Power\n",
    "def multiply_together(a, b):\n",
    "\treturn a * b\n",
    "\n",
    "\n",
    "print(multiply_together)\n",
    "print(multiply_together(2, 2))"
   ]
  },
  {
   "cell_type": "code",
   "execution_count": 16,
   "metadata": {},
   "outputs": [
    {
     "data": {
      "text/html": [
       "<img src=\"decorator_1.png\" width=\"600\" height=\"800\"/>"
      ],
      "text/plain": [
       "<IPython.core.display.Image object>"
      ]
     },
     "execution_count": 16,
     "metadata": {},
     "output_type": "execute_result"
    }
   ],
   "source": [
    "# import image module\n",
    "from IPython.display import Image\n",
    "  \n",
    "# get the image\n",
    "Image(url=\"decorator_1.png\", width=600, height=800)"
   ]
  },
  {
   "cell_type": "code",
   "execution_count": null,
   "metadata": {},
   "outputs": [],
   "source": []
  }
 ],
 "metadata": {
  "interpreter": {
   "hash": "906be0654fa4f794130b25da4fa22a2354d14cb3748b068f983ea800452b001c"
  },
  "kernelspec": {
   "display_name": "Python 3.8.12 ('jupyter_conda_python_3.8')",
   "language": "python",
   "name": "python3"
  },
  "language_info": {
   "codemirror_mode": {
    "name": "ipython",
    "version": 3
   },
   "file_extension": ".py",
   "mimetype": "text/x-python",
   "name": "python",
   "nbconvert_exporter": "python",
   "pygments_lexer": "ipython3",
   "version": "3.8.12"
  },
  "orig_nbformat": 4
 },
 "nbformat": 4,
 "nbformat_minor": 2
}
