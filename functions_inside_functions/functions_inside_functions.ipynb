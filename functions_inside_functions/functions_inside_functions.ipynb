{
 "cells": [
  {
   "cell_type": "code",
   "execution_count": null,
   "metadata": {},
   "outputs": [],
   "source": [
    "# https://python101.pythonlibrary.org/chapter25_decorators.html\n",
    "# Chapter 25 - Decorators — Python 101 1.0 documentation"
   ]
  },
  {
   "cell_type": "code",
   "execution_count": 10,
   "metadata": {},
   "outputs": [
    {
     "name": "stdout",
     "output_type": "stream",
     "text": [
      "1+1\n"
     ]
    }
   ],
   "source": [
    "def a_function():\n",
    "    return '1+1'\n",
    "\n",
    "\n",
    "def another_function(func):\n",
    "    def other_func():\n",
    "        val = 'The Result that accepts another function %s' %('zhang')\n",
    "        func\n",
    "        return val\n",
    "    return other_func\n",
    "    \n",
    "\n",
    "\n",
    "\n",
    "if __name__==\"__main__\":\n",
    "    value = a_function()\n",
    "    print(value)"
   ]
  },
  {
   "cell_type": "code",
   "execution_count": 5,
   "metadata": {},
   "outputs": [],
   "source": [
    "def outer_func():\n",
    "    \n",
    "    def inner_func():\n",
    "        print(\"Hello, World!\")\n",
    "    return inner_func()"
   ]
  },
  {
   "cell_type": "code",
   "execution_count": 6,
   "metadata": {},
   "outputs": [
    {
     "name": "stdout",
     "output_type": "stream",
     "text": [
      "Hello, World!\n"
     ]
    }
   ],
   "source": [
    "outer_func()"
   ]
  },
  {
   "cell_type": "code",
   "execution_count": null,
   "metadata": {},
   "outputs": [],
   "source": []
  }
 ],
 "metadata": {
  "interpreter": {
   "hash": "906be0654fa4f794130b25da4fa22a2354d14cb3748b068f983ea800452b001c"
  },
  "kernelspec": {
   "display_name": "Python 3.8.12 ('jupyter_conda_python_3.8')",
   "language": "python",
   "name": "python3"
  },
  "language_info": {
   "codemirror_mode": {
    "name": "ipython",
    "version": 3
   },
   "file_extension": ".py",
   "mimetype": "text/x-python",
   "name": "python",
   "nbconvert_exporter": "python",
   "pygments_lexer": "ipython3",
   "version": "3.8.12"
  },
  "orig_nbformat": 4
 },
 "nbformat": 4,
 "nbformat_minor": 2
}
