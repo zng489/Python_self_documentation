{
 "cells": [
  {
   "cell_type": "code",
   "execution_count": null,
   "id": "8eb1d5fe",
   "metadata": {},
   "outputs": [],
   "source": [
    "# https://stackabuse.com/map-filter-and-reduce-in-python-with-examples/"
   ]
  },
  {
   "cell_type": "code",
   "execution_count": 4,
   "id": "10d996ef",
   "metadata": {},
   "outputs": [
    {
     "data": {
      "text/plain": [
       "'Tem certeza --> Writing Lambda Function'"
      ]
     },
     "execution_count": 4,
     "metadata": {},
     "output_type": "execute_result"
    }
   ],
   "source": [
    "# Defining Lambda Function\n",
    "\n",
    "lamb = lambda x: x + ' Writing Lambda Function' \n",
    "\n",
    "#-----x-----x-----x-----x-----x-----x-----x-----x-----x-----x-----x-----#\n",
    "\n",
    "lamb('Tem certeza -->')"
   ]
  },
  {
   "cell_type": "code",
   "execution_count": 8,
   "id": "c459021f",
   "metadata": {},
   "outputs": [
    {
     "name": "stdout",
     "output_type": "stream",
     "text": [
      "<map object at 0x7fb0585017c0>\n"
     ]
    }
   ],
   "source": [
    "# Defining map()\n",
    "# map(function, iterable(s))\n",
    "\n",
    "def name(x):\n",
    "    a = x + \" LIXO DE FRUTA\"\n",
    "    return a\n",
    "\n",
    "#-----x-----x-----x-----x-----x-----x-----x-----x-----x-----x-----x-----#\n",
    "\n",
    "fruit = [\"Apple\", \"Banana\", \"Pear\", \"Apricot\", \"Orange\"]\n",
    "map_object = map(name, fruit)\n",
    "\n",
    "print(map_object)"
   ]
  },
  {
   "cell_type": "code",
   "execution_count": 9,
   "id": "fd7fa2ff",
   "metadata": {},
   "outputs": [
    {
     "name": "stdout",
     "output_type": "stream",
     "text": [
      "['Apple LIXO DE FRUTA', 'Banana LIXO DE FRUTA', 'Pear LIXO DE FRUTA', 'Apricot LIXO DE FRUTA', 'Orange LIXO DE FRUTA']\n"
     ]
    }
   ],
   "source": [
    "print(list(map_object))"
   ]
  },
  {
   "cell_type": "code",
   "execution_count": 12,
   "id": "9824a057",
   "metadata": {},
   "outputs": [
    {
     "name": "stdout",
     "output_type": "stream",
     "text": [
      "Apple LIXO DE FRUTA\n",
      "Banana LIXO DE FRUTA\n",
      "Pear LIXO DE FRUTA\n",
      "Apricot LIXO DE FRUTA\n",
      "Orange LIXO DE FRUTA\n"
     ]
    }
   ],
   "source": [
    "for each_item in map(name, fruit):\n",
    "    print(each_item)"
   ]
  },
  {
   "cell_type": "code",
   "execution_count": 14,
   "id": "d6f498d9",
   "metadata": {},
   "outputs": [
    {
     "data": {
      "text/plain": [
       "['Apple LIXO DE FRUTA',\n",
       " 'Banana LIXO DE FRUTA',\n",
       " 'Pear LIXO DE FRUTA',\n",
       " 'Apricot LIXO DE FRUTA',\n",
       " 'Orange LIXO DE FRUTA']"
      ]
     },
     "execution_count": 14,
     "metadata": {},
     "output_type": "execute_result"
    }
   ],
   "source": [
    "df = [each_item for each_item in map(name, fruit)]\n",
    "df"
   ]
  },
  {
   "cell_type": "code",
   "execution_count": 18,
   "id": "2cb0c7bd",
   "metadata": {},
   "outputs": [
    {
     "name": "stdout",
     "output_type": "stream",
     "text": [
      "<filter object at 0x7fb058501a00>\n",
      "['Banana']\n"
     ]
    }
   ],
   "source": [
    "# Defining filter()\n",
    "                        # Filter has the same idea to map(), plus with certain conditions\n",
    "\n",
    "# filter(function, iterable(s))\n",
    "\n",
    "def name(x):\n",
    "    return x[0] == 'B'\n",
    "\n",
    "#-----x-----x-----x-----x-----x-----x-----x-----x-----x-----x-----x-----#\n",
    "\n",
    "fruit = [\"Apple\", \"Banana\", \"Pear\", \"Apricot\", \"Orange\"]\n",
    "map_object = filter(name, fruit)\n",
    "\n",
    "print(map_object)\n",
    "print(list(map_object))\n",
    "\n"
   ]
  },
  {
   "cell_type": "code",
   "execution_count": 19,
   "id": "beac5660",
   "metadata": {},
   "outputs": [
    {
     "ename": "NameError",
     "evalue": "name 'my_add' is not defined",
     "output_type": "error",
     "traceback": [
      "\u001b[0;31m---------------------------------------------------------------------------\u001b[0m",
      "\u001b[0;31mNameError\u001b[0m                                 Traceback (most recent call last)",
      "\u001b[0;32m/tmp/ipykernel_28/1463865808.py\u001b[0m in \u001b[0;36m<module>\u001b[0;34m\u001b[0m\n\u001b[1;32m      3\u001b[0m \u001b[0mnumbers\u001b[0m \u001b[0;34m=\u001b[0m \u001b[0;34m[\u001b[0m\u001b[0;36m0\u001b[0m\u001b[0;34m,\u001b[0m \u001b[0;36m1\u001b[0m\u001b[0;34m,\u001b[0m \u001b[0;36m2\u001b[0m\u001b[0;34m,\u001b[0m \u001b[0;36m3\u001b[0m\u001b[0;34m,\u001b[0m \u001b[0;36m4\u001b[0m\u001b[0;34m]\u001b[0m\u001b[0;34m\u001b[0m\u001b[0;34m\u001b[0m\u001b[0m\n\u001b[1;32m      4\u001b[0m \u001b[0;34m\u001b[0m\u001b[0m\n\u001b[0;32m----> 5\u001b[0;31m \u001b[0mreduce\u001b[0m\u001b[0;34m(\u001b[0m\u001b[0mmy_add\u001b[0m\u001b[0;34m,\u001b[0m \u001b[0mnumbers\u001b[0m\u001b[0;34m)\u001b[0m\u001b[0;34m\u001b[0m\u001b[0;34m\u001b[0m\u001b[0m\n\u001b[0m",
      "\u001b[0;31mNameError\u001b[0m: name 'my_add' is not defined"
     ]
    }
   ],
   "source": [
    "# Reduce()\n",
    "\n",
    "from functools import reduce\n",
    "\n",
    "numbers = [0, 1, 2, 3, 4]\n",
    "\n",
    "reduce(my_add, numbers)"
   ]
  }
 ],
 "metadata": {
  "kernelspec": {
   "display_name": "Python 3 (ipykernel)",
   "language": "python",
   "name": "python3"
  },
  "language_info": {
   "codemirror_mode": {
    "name": "ipython",
    "version": 3
   },
   "file_extension": ".py",
   "mimetype": "text/x-python",
   "name": "python",
   "nbconvert_exporter": "python",
   "pygments_lexer": "ipython3",
   "version": "3.9.7"
  }
 },
 "nbformat": 4,
 "nbformat_minor": 5
}
